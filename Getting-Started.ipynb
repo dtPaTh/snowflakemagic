{
 "cells": [
  {
   "attachments": {},
   "cell_type": "markdown",
   "metadata": {},
   "source": [
    "# Snowflake Magic \n",
    "\n",
    "An ipython magic function allowing to use Snowflake SQL in your notebooks.\n",
    "\n",
    "## Setup and Configuration\n",
    "\n",
    "### Install the extension"
   ]
  },
  {
   "cell_type": "code",
   "execution_count": null,
   "metadata": {},
   "outputs": [],
   "source": [
    "pip install ./snowflakemagic"
   ]
  },
  {
   "attachments": {},
   "cell_type": "markdown",
   "metadata": {},
   "source": [
    "### Load the extension "
   ]
  },
  {
   "cell_type": "code",
   "execution_count": 1,
   "metadata": {},
   "outputs": [],
   "source": [
    "%load_ext snowflakemagic"
   ]
  },
  {
   "attachments": {},
   "cell_type": "markdown",
   "metadata": {},
   "source": [
    "### Authenticate in Snowflake\n",
    "\n",
    "Inline function connecting to your snowflake account. Reads connection parameters from .env file:\n",
    "\n",
    "You can either authenticate via SSO, which opens an external browser, or using credentials. \n",
    "\n",
    "```snowflake_account=\"<YOUR-SNOWFLAKE-ACCOUNT>\"```\n",
    "\n",
    "If you want to connect via sso, provide your sso username: \n",
    "\n",
    "```snowflake_ssouser=\"<YOUR-SSO-USERNAME>\"```\n",
    "\n",
    "If you want to connect via use-credentials, provide the password, otherwise SSO authentication is used.\n",
    "```\n",
    "snowflake_user=\"<YOUR-USERNAME>\"\n",
    "snowflake_password=\"<YOUR-PASSWORD>\"\n",
    "```\n",
    "\n",
    "For more details on .env file see [How to NOT embedded credential in Jupyter notebook](https://yuthakarn.medium.com/how-to-not-show-credential-in-jupyter-notebook-c349f9278466) or [python-dotenv](https://pypi.org/project/python-dotenv/)\n"
   ]
  },
  {
   "cell_type": "code",
   "execution_count": null,
   "metadata": {},
   "outputs": [],
   "source": [
    "%snowflake_auth"
   ]
  },
  {
   "attachments": {},
   "cell_type": "markdown",
   "metadata": {},
   "source": [
    "## Execute Queries\n",
    "\n",
    "Queries can be done as linemagic or cellmagic. Queries return the result as json object. \n",
    "\n",
    "### Using cell magic"
   ]
  },
  {
   "cell_type": "code",
   "execution_count": null,
   "metadata": {
    "scrolled": true
   },
   "outputs": [],
   "source": [
    "%%snowflake\n",
    "SELECT * FROM xyz;\n"
   ]
  },
  {
   "attachments": {},
   "cell_type": "markdown",
   "metadata": {},
   "source": [
    "### Use cell magic to pass into a variable"
   ]
  },
  {
   "cell_type": "code",
   "execution_count": null,
   "metadata": {},
   "outputs": [],
   "source": [
    "%%snowflake my_result\n",
    "SELECT * FROM xyz;"
   ]
  },
  {
   "cell_type": "code",
   "execution_count": null,
   "metadata": {},
   "outputs": [],
   "source": [
    "import pandas as pd\n",
    "\n",
    "#put result into a dataframe\n",
    "df = pd.DataFrame(my_result)\n",
    "\n",
    "#...\n",
    "\n"
   ]
  },
  {
   "attachments": {},
   "cell_type": "markdown",
   "metadata": {},
   "source": [
    "### Inline usage"
   ]
  },
  {
   "cell_type": "code",
   "execution_count": null,
   "metadata": {},
   "outputs": [],
   "source": [
    "import pandas as pd\n",
    "\n",
    "my_result = %snowflake SELECT * FROM xyz;\n",
    "df = pd.DataFrame(my_result)\n",
    "\n",
    "#..."
   ]
  }
 ],
 "metadata": {
  "kernelspec": {
   "display_name": "Python 3",
   "language": "python",
   "name": "python3"
  },
  "language_info": {
   "codemirror_mode": {
    "name": "ipython",
    "version": 3
   },
   "file_extension": ".py",
   "mimetype": "text/x-python",
   "name": "python",
   "nbconvert_exporter": "python",
   "pygments_lexer": "ipython3",
   "version": "3.10.4"
  },
  "vscode": {
   "interpreter": {
    "hash": "237413fe4cf554e3e1b344a6b2b1fc3866fe88e2661eca425fbc1ab3bd331ffe"
   }
  }
 },
 "nbformat": 4,
 "nbformat_minor": 2
}
